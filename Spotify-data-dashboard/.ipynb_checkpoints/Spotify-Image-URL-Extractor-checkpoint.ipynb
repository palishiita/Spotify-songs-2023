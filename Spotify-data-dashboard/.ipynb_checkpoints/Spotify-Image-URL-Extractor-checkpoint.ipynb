{
 "cells": [
  {
   "cell_type": "markdown",
   "id": "e93bd8eb-39d8-4b5a-9f0e-81c62003c302",
   "metadata": {},
   "source": [
    "# Spotify-Image-URL-Extractor"
   ]
  },
  {
   "cell_type": "markdown",
   "id": "e901ab87-a035-4a20-afbe-741051d865a0",
   "metadata": {},
   "source": [
    "### Below code extracts the image URL for the songs in our spotify-2023 dataset from spotify using spotify API. It returns a new csv file spotify-2023-update.csv which is the updated with an extra image URL column."
   ]
  },
  {
   "cell_type": "code",
   "execution_count": null,
   "id": "40f26ee4-af86-479d-969b-e3778f02d0ed",
   "metadata": {},
   "outputs": [],
   "source": [
    "import requests\n",
    "import pandas as pd"
   ]
  },
  {
   "cell_type": "code",
   "execution_count": null,
   "id": "59e9a208-4924-46f3-ad5c-4b2236f57cbc",
   "metadata": {},
   "outputs": [],
   "source": [
    "# Function to get Spotify access token\n",
    "def get_spotify_token(client_id, client_secret):\n",
    "    auth_url = 'https://accounts.spotify.com/api/token'\n",
    "    auth_response = requests.post(auth_url, {\n",
    "    'grant_type': 'client_credentials',\n",
    "    'client_id': client_id,\n",
    "    'client_secret': client_secret,\n",
    "    })\n",
    "    auth_data = auth_response.json()\n",
    "    return auth_data['access_token']"
   ]
  },
  {
   "cell_type": "code",
   "execution_count": null,
   "id": "10d037b0-238c-4a3c-8988-18e50eb5b04d",
   "metadata": {},
   "outputs": [],
   "source": [
    "# Function to search for a track and get its ID\n",
    "def search_track(track_name, artist_name, token):\n",
    "    query = f\"{track_name} artist:{artist_name}\"\n",
    "    url = f\"https://api.spotify.com/v1/search?q={query}&type=track\"\n",
    "    response = requests.get(url, headers={\n",
    "    'Authorization': f'Bearer {token}'\n",
    "    })\n",
    "    json_data = response.json()\n",
    "    try:\n",
    "        first_result = json_data['tracks']['items'][0]\n",
    "        track_id = first_result['id']\n",
    "        return track_id\n",
    "    except (KeyError, IndexError):\n",
    "        return None"
   ]
  },
  {
   "cell_type": "code",
   "execution_count": null,
   "id": "60008385-07db-4a06-a02a-5395382feba4",
   "metadata": {},
   "outputs": [],
   "source": [
    "# Function to get track details\n",
    "def get_track_details(track_id, token):\n",
    "    url = f\"https://api.spotify.com/v1/tracks/{track_id}\"\n",
    "    response = requests.get(url, headers={\n",
    "        'Authorization': f'Bearer {token}'\n",
    "    })\n",
    "    json_data = response.json()\n",
    "    image_url = json_data['album']['images'][0]['url']\n",
    "    return image_url"
   ]
  },
  {
   "cell_type": "code",
   "execution_count": null,
   "id": "221398a3-deec-44c8-97ac-4641dd7a0746",
   "metadata": {},
   "outputs": [],
   "source": [
    "# Your Spotify API Credentials\n",
    "client_id = 'your_client_id'\n",
    "client_secret = 'your_client_secret'"
   ]
  },
  {
   "cell_type": "code",
   "execution_count": null,
   "id": "fe4df5e6-31cc-482d-8575-3c4372cc7bb1",
   "metadata": {},
   "outputs": [],
   "source": [
    "# Get Access Token\n",
    "access_token = get_spotify_token(client_id, client_secret)"
   ]
  },
  {
   "cell_type": "code",
   "execution_count": null,
   "id": "2e74a5fa-c35e-4120-8da6-3b856d6fcafe",
   "metadata": {},
   "outputs": [],
   "source": [
    "# Read your DataFrame (replace 'your_file.csv' with the path to your CSV file)\n",
    "df_spotify = pd.read_csv('your_file.csv', encoding='ISO-8859-1')"
   ]
  },
  {
   "cell_type": "code",
   "execution_count": null,
   "id": "0a2b397e-bbf6-4350-8ce1-6ef5d63f8380",
   "metadata": {},
   "outputs": [],
   "source": [
    "# Loop through each row to get track details and add to DataFrame\n",
    "for i, row in df_spotify.iterrows():\n",
    "    track_id = search_track(row['track_name'], row['artist_name'], access_token)\n",
    "if track_id:\n",
    "    image_url = get_track_details(track_id, access_token)\n",
    "    df_spotify.at[i, 'image_url'] = image_url"
   ]
  },
  {
   "cell_type": "code",
   "execution_count": null,
   "id": "79c19440-c4b1-4f9f-8c2e-ec2a4354bdc2",
   "metadata": {},
   "outputs": [],
   "source": [
    "# Save the updated DataFrame \n",
    "df_spotify.to_csv('spotify-2023-updated.csv', index=False)"
   ]
  }
 ],
 "metadata": {
  "kernelspec": {
   "display_name": "Python 3 (ipykernel)",
   "language": "python",
   "name": "python3"
  },
  "language_info": {
   "codemirror_mode": {
    "name": "ipython",
    "version": 3
   },
   "file_extension": ".py",
   "mimetype": "text/x-python",
   "name": "python",
   "nbconvert_exporter": "python",
   "pygments_lexer": "ipython3",
   "version": "3.11.4"
  }
 },
 "nbformat": 4,
 "nbformat_minor": 5
}
